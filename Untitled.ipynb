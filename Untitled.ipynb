{
 "cells": [
  {
   "cell_type": "markdown",
   "metadata": {},
   "source": [
    "# Question 1:\n",
    "\n",
    "Given two strings s and t, determine whether some anagram of t is a substring of s. For example: if s = \"udacity\" and t = \"ad\", then the function returns True. Your function definition should look like: question1(s, t) and return a boolean True or False."
   ]
  },
  {
   "cell_type": "markdown",
   "metadata": {},
   "source": [
    "# Answer  :\n",
    "\n",
    "Using brute force technique, take a string t and check whether each character of t is there in s or not. If not it returns false. This approach can take up to O(n*m) time in worst case. n- length of string s and m-length of string t. \n",
    "\n",
    "So, in order to reduce this time complexity, lets pick a data structure. The only operation we are working here is lookup whether a character is in string s or not. So, trees and heaps have look-up time complexity O(log n) but arrays, hash maps will help to lookup in O(1). Either one will help to solve this problem.\n",
    "\n",
    "I have taken hashmap and rewrite the algorithm like this :\n",
    "\n",
    "    1. Create a dictionary flags.\n",
    "    2. Traverse string s and insert every character into flags. Make the value of this to True.\n",
    "    3. Now, traverse string t. For each character in t :\n",
    "        a. Look whether the character is in dict or not. If yes and value is true, continue, else return false.\n",
    "        \n",
    "Time Complexity : O(n) n- length of string s.\n",
    "As we are traversing two string only once. Traversing of string s will take O(m) and space complexity is O(1)"
   ]
  },
  {
   "cell_type": "code",
   "execution_count": 80,
   "metadata": {
    "collapsed": true
   },
   "outputs": [],
   "source": [
    "def question1(s,t):\n",
    "    flags = dict()# size of 128 assumes ASCII\n",
    "    for i in range(0,len(s)) :\n",
    "        flags[s[i].lower()] = True\n",
    "        \n",
    "    for i in range(0,len(t)):\n",
    "        if (t[i].lower()) not in flags :\n",
    "            return False\n",
    "        \n",
    "    return True"
   ]
  },
  {
   "cell_type": "code",
   "execution_count": 81,
   "metadata": {},
   "outputs": [
    {
     "name": "stdout",
     "output_type": "stream",
     "text": [
      "True\n",
      "False\n",
      "True\n"
     ]
    }
   ],
   "source": [
    "s = \"InputString\"\n",
    "t = \"str\"\n",
    "\n",
    "#should return true\n",
    "print question1(s,t) \n",
    "\n",
    "s = \"\"\n",
    "t = \"Input\"\n",
    "\n",
    "#should return true\n",
    "print question1(s,t) \n",
    "\n",
    "s = \"InputStringIsThisAnAnagram\"\n",
    "t = \"str\"\n",
    "\n",
    "#should return true\n",
    "print question1(s,t) \n"
   ]
  },
  {
   "cell_type": "markdown",
   "metadata": {},
   "source": [
    "\n",
    "# Question 2:\n",
    "\n",
    "Given a string a, find the longest palindromic substring contained in a. Your function definition should look like question2(a), and return a string."
   ]
  },
  {
   "cell_type": "markdown",
   "metadata": {},
   "source": [
    "# Answer  :\n",
    "\n",
    "Using brute force technique, check each substring whether the substring is a palindrome or not. We can run three loops, the outer two loops pick all substrings one by one by fixing the corner characters, the inner loop checks whether the picked substring is palindrome or not.This approach can take up to O(n^3) time in worst case. n=length of string. \n",
    "\n",
    "Using hashmap, store the indices of each character. Now, for each character whose frequency is greater than 1, get the maximum palindromic sequence using this character as starting point of the palindrome. Out of all sequences, return the palindromic string which has maximum length and O(1) space complexity. It will take O(n^2) in worst case, n = length of string."
   ]
  },
  {
   "cell_type": "code",
   "execution_count": 82,
   "metadata": {
    "collapsed": true
   },
   "outputs": [],
   "source": [
    "def question2(a):\n",
    "    if len(a) == 0:\n",
    "        return \"Empty String input is given\"\n",
    "    if len(a) == 1:\n",
    "        return a\n",
    "    elif len(a) == 2:\n",
    "        if(a[0]==a[1]):\n",
    "            return a\n",
    "        else:\n",
    "            return a[0]\n",
    "    else:\n",
    "        hashMap = {}\n",
    "        for i in range(0,len(a)) : \n",
    "            if a[i] in hashMap:\n",
    "                hashMap[a[i]].append(i)\n",
    "            else:\n",
    "                hashMap[a[i]] = [i]\n",
    "        max_length = 1\n",
    "        longest_substring = a[0]\n",
    "        for i in hashMap:\n",
    "            if len(hashMap[i])>1:\n",
    "                temp_longest_substring = isPalindrome(a,hashMap[i])\n",
    "                temp_max_length = len(temp_longest_substring)\n",
    "                if max_length < temp_max_length:\n",
    "                    max_length = temp_max_length\n",
    "                    longest_substring = temp_longest_substring\n",
    "                if max_length == len(a):\n",
    "                    break\n",
    "        return longest_substring"
   ]
  },
  {
   "cell_type": "code",
   "execution_count": 83,
   "metadata": {
    "collapsed": true
   },
   "outputs": [],
   "source": [
    "def isPalindrome(a , index_list):\n",
    "    max_length = 0\n",
    "    longest_substring = \"\"\n",
    "    for i in range(0,len(index_list)):\n",
    "        for j in range(i+1,len(index_list)):\n",
    "            if isPalindromeIndex(a,index_list[i],index_list[j]) and max_length<(index_list[j]-index_list[i]+1): \n",
    "                longest_substring = a[index_list[i]:index_list[j]+1]\n",
    "                max_length = len(longest_substring)\n",
    "    return longest_substring"
   ]
  },
  {
   "cell_type": "code",
   "execution_count": 84,
   "metadata": {
    "collapsed": true
   },
   "outputs": [],
   "source": [
    "def isPalindromeIndex(a, i ,j):\n",
    "    while(i<j):\n",
    "        if a[i].lower() != a[j].lower() :\n",
    "            return False\n",
    "        i = i+1\n",
    "        j = j-1\n",
    "    return True"
   ]
  },
  {
   "cell_type": "code",
   "execution_count": 85,
   "metadata": {},
   "outputs": [
    {
     "name": "stdout",
     "output_type": "stream",
     "text": [
      "aa\n",
      "ldldldldl\n",
      "Empty String input is given\n"
     ]
    }
   ],
   "source": [
    "print question2(\"abcdaa\")\n",
    "print question2(\"abdaabsbasfasdadbsasdasasdaasassaassvsadbsdbasdjsssalllskdlldldldldl\")\n",
    "print question2(\"\")"
   ]
  },
  {
   "cell_type": "markdown",
   "metadata": {},
   "source": [
    "# Question 3 :\n",
    "\n",
    "Given an undirected graph G, find the minimum spanning tree within G. A minimum spanning tree connects all vertices in a graph with the smallest possible total weight of edges. Your function should take in and return an adjacency list structured like this:"
   ]
  },
  {
   "cell_type": "raw",
   "metadata": {},
   "source": [
    "{'A': [('B', 2)],\n",
    " 'B': [('A', 2), ('C', 5)], \n",
    " 'C': [('B', 5)]}"
   ]
  },
  {
   "cell_type": "markdown",
   "metadata": {},
   "source": [
    "Vertices are represented as unique strings. \n",
    "The function definition should be question3(G)"
   ]
  },
  {
   "cell_type": "markdown",
   "metadata": {},
   "source": [
    "# Answer :\n",
    "\n",
    "Kruskal's Algorithm is used to find the minimum spanning tree. Time Complexity of this algorithm is O(E log E+ E log V)and  O(V) space complexity, to store the parent and the rank of all vertices."
   ]
  },
  {
   "cell_type": "code",
   "execution_count": 86,
   "metadata": {
    "collapsed": true
   },
   "outputs": [],
   "source": [
    "def question3(G):\n",
    "    mst = []\n",
    "    edges = []\n",
    "    for vertex in G : \n",
    "        for edge in G[vertex]:\n",
    "            (anotherVertex, weight) = edge\n",
    "            if vertex < anotherVertex :\n",
    "                edges.append([vertex,anotherVertex, weight])\n",
    "    edges = sorted(edges, key=lambda edges:edges[2])\n",
    "    \n",
    "    vertices = []\n",
    "    parent = {} ; rank = {}\n",
    "    for vertex in G:\n",
    "        vertices.append(vertex)\n",
    "        parent[vertex] = vertex\n",
    "        rank[vertex] = 0\n",
    "    \n",
    "    index = 0\n",
    "    edgeCount = 0\n",
    "    while edgeCount < len(vertices)-1 : \n",
    "        u,v,w = edges[index]\n",
    "        index += 1\n",
    "        \n",
    "        u_parent = find(parent, u)\n",
    "        v_parent = find(parent ,v)\n",
    "        \n",
    "        if u_parent!=v_parent : \n",
    "            edgeCount += 1\n",
    "            mst.append([u,v,w])\n",
    "            union(parent,rank,u_parent,v_parent)\n",
    "    print mst\n",
    "    \n",
    "def union(parent,rank,u_parent,v_parent):\n",
    "    xroot = find(parent, u_parent)\n",
    "    yroot = find(parent, v_parent)\n",
    "    if rank[xroot] < rank[yroot]:\n",
    "            parent[xroot] = yroot\n",
    "    elif rank[xroot] > rank[yroot]:\n",
    "            parent[yroot] = xroot\n",
    "    else :\n",
    "            parent[yroot] = xroot\n",
    "            rank[xroot] += 1\n",
    "\n",
    "def find(parent, i):\n",
    "    if parent[i] == i:\n",
    "        return i\n",
    "    return find(parent, parent[i])\n",
    "        \n",
    "        "
   ]
  },
  {
   "cell_type": "code",
   "execution_count": 87,
   "metadata": {},
   "outputs": [
    {
     "name": "stdout",
     "output_type": "stream",
     "text": [
      "[['A', 'B', 2], ['B', 'C', 5]]\n",
      "[['A', 'C', 2], ['B', 'C', 6]]\n",
      "[['C', 'D', 4], ['A', 'D', 5], ['A', 'B', 10]]\n"
     ]
    }
   ],
   "source": [
    "question3({'A': [('B', 2)],'B': [('A', 2), ('C', 5)], 'C': [('B', 5)]})\n",
    "question3({'A': [('C', 2)],'B': [('C',6)], 'C': [('A', 5),('B',6)]})\n",
    "question3({'A': [('B',10),('C', 6),('D', 5)],'B': [('A',10),('D', 15)], 'C': [('A', 6),('D', 4)], 'D':[('A', 5),('B',15),('C',4)]})"
   ]
  },
  {
   "cell_type": "markdown",
   "metadata": {},
   "source": [
    "# Question 4 : \n",
    "Find the least common ancestor between two nodes on a binary search tree. The least common ancestor is the farthest node from the root that is an ancestor of both nodes. For example, the root is a common ancestor of all nodes on the tree, but if both nodes are descendents of the root's left child, then that left child might be the lowest common ancestor. You can assume that both nodes are in the tree, and the tree itself adheres to all BST properties. The function definition should look like question4(T, r, n1, n2), where T is the tree represented as a matrix, where the index of the list is equal to the integer stored in that node and a 1 represents a child node, r is a non-negative integer representing the root, and n1 and n2 are non-negative integers representing the two nodes in no particular order. For example, one test case might be"
   ]
  },
  {
   "cell_type": "raw",
   "metadata": {},
   "source": [
    "question4([[0, 1, 0, 0, 0],\n",
    "           [0, 0, 0, 0, 0],\n",
    "           [0, 0, 0, 0, 0],\n",
    "           [1, 0, 0, 0, 1],\n",
    "           [0, 0, 0, 0, 0]],\n",
    "          3,\n",
    "          1,\n",
    "          4)\n",
    "\n",
    "Answer : 3"
   ]
  },
  {
   "cell_type": "markdown",
   "metadata": {},
   "source": [
    "# Answer : \n",
    "\n",
    "Here, traversing all the nodes and getting the roots of each nodes. Taking the Least common ancestor for each node. It requires two traversals for getting roots of nodes n1 and n2 and also space for storing list of all the nodes. Again, in this list we need to take least common ancestor which will take O(n) ==> n number of common ancestors. \n",
    "\n",
    "Instead, if the root node value is in between n1 and n2 then this is the Least Common Ancestor. If root value is greater than n1 and n2, then the least common ancestor will be in left of the root. So make left child of root as new root and traverse this new root. Similarly, if root is less than n1 and n2 then Least Common Ancestor will be on the right side of the root. This will O(log n) time Complexity in average case. "
   ]
  },
  {
   "cell_type": "code",
   "execution_count": 88,
   "metadata": {
    "collapsed": true
   },
   "outputs": [],
   "source": [
    "def question4(T, r, n1, n2):\n",
    "    prev_r = r\n",
    "    while True : \n",
    "        if r>n1 and r<n2 : \n",
    "            return r\n",
    "        \n",
    "        elif r>n1 and r>n2 :\n",
    "            #left traverse\n",
    "            for i in range(0,len(T[0])):\n",
    "                if T[r][i] == 1 :\n",
    "                    if i!=n1 and i!=n2 :\n",
    "                        r = i\n",
    "                        break\n",
    "                    else : \n",
    "                        return r\n",
    "            prev_r = r\n",
    "            if prev_r == r :\n",
    "                return \"Check the structure of tree, No LCA Found\"\n",
    "        elif r<n1 and r<n2 :\n",
    "            # right traverse\n",
    "            counter = 0\n",
    "            for i in range(0,len(T[0])):\n",
    "                if T[r][i] == 1 :\n",
    "                    counter += 1\n",
    "                    \n",
    "            for i in range(0,len(T[0])):\n",
    "                if counter == 2 and T[r][i] == 1:\n",
    "                    counter -= 1\n",
    "                if counter == 1 and T[r][i] == 1 :\n",
    "                    if i!=n1 and i!=n2 :\n",
    "                        r = i\n",
    "                        break\n",
    "                    else : \n",
    "                        return r\n",
    "            prev_r = r\n",
    "            if prev_r == r :\n",
    "                return \"Check the structure of tree, No LCA Found\"\n",
    "        \n",
    "        else :\n",
    "            return \"No root is present for given nodes\"\n",
    "            "
   ]
  },
  {
   "cell_type": "code",
   "execution_count": 89,
   "metadata": {},
   "outputs": [
    {
     "name": "stdout",
     "output_type": "stream",
     "text": [
      "3\n",
      "Check the structure of tree, No LCA Found\n",
      "0\n"
     ]
    }
   ],
   "source": [
    "print question4([[0, 0, 0, 0, 0], [1, 0, 1, 0, 0], [0, 0, 0, 0, 0], [0, 1, 0, 0, 1], [0, 0, 0, 0, 0]], 3, 1, 4)\n",
    "print question4([[0, 0, 0, 0, 0], [0, 0, 0, 0, 0], [0, 0, 0, 0, 0], [0, 0, 0, 0, 0], [0, 0, 0, 0, 0]], 0, 1, 4)\n",
    "print question4([[0, 0, 1, 0, 4], [0, 1, 0, 1, 0], [0, 0, 0, 0, 0], [0, 0, 0, 0, 0], [0, 0, 0, 0, 0]], 0, 2, 3)"
   ]
  },
  {
   "cell_type": "markdown",
   "metadata": {},
   "source": [
    "# Question 5 :\n",
    "\n",
    "Find the element in a singly linked list that's m elements from the end. For example, if a linked list has 5 elements, the 3rd element from the end is the 3rd element. The function definition should look like question5(ll, m), where ll is the first node of a linked list and m is the \"mth number from the end\". You should copy/paste the Node class below to use as a representation of a node in the linked list. Return the value of the node at that position."
   ]
  },
  {
   "cell_type": "markdown",
   "metadata": {},
   "source": [
    "# Answer : \n",
    "\n",
    "Ae we don't know how many nodes are there in Linked List. Traversing list and getting the number of nodes count and then again traversing list using this (count-m) iterations will yield the result. But this approach will take 2 times traversing list and it might be costlier if we have a large list.\n",
    "\n",
    "\n",
    "So, in order to get rid of this problem, using two pointers will help to solve this with one traversal. First pointer traverse to k nodes and second pointer starts traversing from root. Both will increment in each step until first pointer reaches end of nodes and p will be at (n-k)th node. It will take O(n) time complexity and two pointers and O(1) space complexity."
   ]
  },
  {
   "cell_type": "code",
   "execution_count": 90,
   "metadata": {
    "collapsed": true
   },
   "outputs": [],
   "source": [
    "class Node(object):\n",
    "    def __init__(self, data):\n",
    "        self.data = data\n",
    "        self.next = None"
   ]
  },
  {
   "cell_type": "code",
   "execution_count": 91,
   "metadata": {},
   "outputs": [],
   "source": [
    "def question5(ll,m):\n",
    "    p, q = ll, ll\n",
    "    for i in range(0,m):\n",
    "        if q == None :\n",
    "            return ('List doesnt have',m,'nodes')\n",
    "        q = q.next\n",
    "        \n",
    "    while(q != None): \n",
    "        p = p.next \n",
    "        q = q.next\n",
    "    \n",
    "    return p.data  "
   ]
  },
  {
   "cell_type": "code",
   "execution_count": 92,
   "metadata": {},
   "outputs": [],
   "source": [
    "root = Node(1)\n",
    "temp = root \n",
    "for i in range(2,51):\n",
    "    new_temp = Node(i)\n",
    "    temp.next = new_temp\n",
    "    temp = temp.next"
   ]
  },
  {
   "cell_type": "code",
   "execution_count": 93,
   "metadata": {},
   "outputs": [
    {
     "name": "stdout",
     "output_type": "stream",
     "text": [
      "48\n",
      "('List doesnt have', 77, 'nodes')\n",
      "26\n"
     ]
    }
   ],
   "source": [
    "print question5(root,3)\n",
    "print question5(root, 77)\n",
    "print question5(root,25)"
   ]
  },
  {
   "cell_type": "code",
   "execution_count": null,
   "metadata": {
    "collapsed": true
   },
   "outputs": [],
   "source": []
  },
  {
   "cell_type": "code",
   "execution_count": null,
   "metadata": {
    "collapsed": true
   },
   "outputs": [],
   "source": []
  },
  {
   "cell_type": "code",
   "execution_count": null,
   "metadata": {
    "collapsed": true
   },
   "outputs": [],
   "source": []
  },
  {
   "cell_type": "code",
   "execution_count": null,
   "metadata": {
    "collapsed": true
   },
   "outputs": [],
   "source": []
  }
 ],
 "metadata": {
  "anaconda-cloud": {},
  "kernelspec": {
   "display_name": "Python [default]",
   "language": "python",
   "name": "python2"
  },
  "language_info": {
   "codemirror_mode": {
    "name": "ipython",
    "version": 2
   },
   "file_extension": ".py",
   "mimetype": "text/x-python",
   "name": "python",
   "nbconvert_exporter": "python",
   "pygments_lexer": "ipython2",
   "version": "2.7.12"
  }
 },
 "nbformat": 4,
 "nbformat_minor": 2
}
